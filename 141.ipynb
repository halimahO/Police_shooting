{
  "nbformat": 4,
  "nbformat_minor": 0,
  "metadata": {
    "kernelspec": {
      "display_name": "Python 3",
      "language": "python",
      "name": "python3"
    },
    "language_info": {
      "codemirror_mode": {
        "name": "ipython",
        "version": 3
      },
      "file_extension": ".py",
      "mimetype": "text/x-python",
      "name": "python",
      "nbconvert_exporter": "python",
      "pygments_lexer": "ipython3",
      "version": "3.8.5"
    },
    "colab": {
      "name": "141.ipynb",
      "provenance": []
    }
  },
  "cells": [
    {
      "cell_type": "markdown",
      "metadata": {
        "id": "udmxljZIx5Qg"
      },
      "source": [
        "# Capstone Project"
      ]
    },
    {
      "cell_type": "markdown",
      "metadata": {
        "id": "o1xcln3Ix5Qi"
      },
      "source": [
        "## Background"
      ]
    },
    {
      "cell_type": "markdown",
      "metadata": {
        "id": "VpFInBdHx5Qi"
      },
      "source": [
        "We are glad you have successfully reached the capstone project part of \"Data Science Fundamentals\" course. You will put everything \n",
        "you have learned so far about data science to work. The outcome of this module should potentially serve as your portfolio item.\n",
        "\n",
        "Unlike with previous projects, this time you are free to choose a dataset to explore from three suggested ones. As you will have to solve a provided problem, there will not be list of predefined questions that you have to answer - be creative and explore any dimensions of data you deem worth analyzing.\n",
        "\n",
        "Although this might seem scary, this is how data science looks like in the industry. Often, it's your responsibility to not only give answers using the data, but also raise questions. The more creatively you look at this project, the better. Good luck!"
      ]
    },
    {
      "cell_type": "markdown",
      "metadata": {
        "id": "ba-76z4Nx5Qj"
      },
      "source": [
        "----"
      ]
    },
    {
      "cell_type": "markdown",
      "metadata": {
        "id": "PLbpeMQ1x5Qj"
      },
      "source": [
        "## Requirements\n",
        "\n",
        "Whichever problem you choose to analyze, general requirements are as follow:\n",
        "\n",
        "#### Exploratory Data Analysis\n",
        "* Describe the data with basic statistical parameters - mean, median, quantiles, etc. Use parameters that give you the most important statistical insights of the data.\n",
        "* Grouping the data and analyzing the groups - using Pandas aggregate methods.\n",
        "* Work with features - handle missing data if needed, use pandas date APIs.\n",
        "* Manipulate datasets - use joins in needed.\n",
        "* Visualize the data - you can use line, scatter, histogram plots, density plots, regplots, etc.\n",
        "\n",
        "#### Statistical hypothesis testing\n",
        "* Use at least one statistical significance test.\n",
        "* Report p-values.\n",
        "* Use visualizations.\n",
        "\n",
        "#### Modeling\n",
        "* Visualize data with dimensionality reduction algorithms.\n",
        "* Perform cluster analysis.\n",
        "* Use a linear model to explain relationships and predict new values.\n",
        "\n",
        "#### Presentation\n",
        "* Present the project - the data, methods and results."
      ]
    },
    {
      "cell_type": "markdown",
      "metadata": {
        "id": "eGSPnmJRx5Qj"
      },
      "source": [
        "## Problems"
      ]
    },
    {
      "cell_type": "markdown",
      "metadata": {
        "id": "hnYdro0Ux5Qj"
      },
      "source": [
        "#### COVID-19 crisis "
      ]
    },
    {
      "cell_type": "markdown",
      "metadata": {
        "id": "C-g3JtEYx5Qk"
      },
      "source": [
        "<div><img width=\"400px\" height=\"auto\" src=\"https://images.unsplash.com/photo-1574515944794-d6dedc7150de?ixlib=rb-1.2.1&ixid=MXwxMjA3fDB8MHxwaG90by1wYWdlfHx8fGVufDB8fHw%3D&auto=format&fit=crop&w=1532&q=80\" /></div>"
      ]
    },
    {
      "cell_type": "markdown",
      "metadata": {
        "id": "17QnFhqCx5Qk"
      },
      "source": [
        "The world is still struggling with one the most rapidly spreading pandemics. There are a lot of people who say that data is the best weapon we can use in this \"Corona Fight\". \n",
        "\n",
        "Imagine that you are one of the best data scientists in your country. The president of your country asked you to analyze the COVID-19 patient-level data of South Korea and prepare your homeland for the next wave of the pandemic. You, as the lead data scientist of your country **have to create and prove a plan of fighting the pandemics in your country** by analyzing the provided data. You must get most important insights using learned data science techniques and present them to the lead of your country."
      ]
    },
    {
      "cell_type": "markdown",
      "metadata": {
        "id": "kqeFtuwkx5Qk"
      },
      "source": [
        "https://www.kaggle.com/kimjihoo/coronavirusdataset/"
      ]
    },
    {
      "cell_type": "markdown",
      "metadata": {
        "id": "EOwocUCAx5Ql"
      },
      "source": [
        "#### 2016 US presidential elections"
      ]
    },
    {
      "cell_type": "markdown",
      "metadata": {
        "id": "4RjWLgNix5Ql"
      },
      "source": [
        "<div><img width=\"400px\" height=\"auto\" src=\"https://images.unsplash.com/photo-1583340806569-6da3d5ea9911?ixlib=rb-1.2.1&ixid=MXwxMjA3fDB8MHxwaG90by1wYWdlfHx8fGVufDB8fHw%3D&auto=format&fit=crop&w=1315&q=80\" /></div>"
      ]
    },
    {
      "cell_type": "markdown",
      "metadata": {
        "id": "gaeAQCvGx5Ql"
      },
      "source": [
        "In 2016, Donald Trump lost the popular vote, yet he won the electoral vote, securing 4 years in the Oval Office. This has been a shock to democrat supporters all around the world.\n",
        "\n",
        "Imagine you travel back in time to 2016. As soon as you step out of your time-capsule, the Democratic Party hires you. They want you, the best data scientist across the time and space, **to explain what happened and what should have been done differently**. They want you to **prepare them for 2020 presidential elections**.\n",
        "\n",
        "The Party has some tips for you - inspect the voters. What are Trump supporters? What do they feature? What are our supporters? Where should focus next? Any pro-trump states? Cities?\n",
        "\n",
        "The Democrats were kind of enough to share [a Kaggle dataset](https://www.kaggle.com/benhamner/2016-us-election) with you on 2016 U.S. elections. Use the data to help the Democrats."
      ]
    },
    {
      "cell_type": "markdown",
      "metadata": {
        "id": "BgnplrIEx5Ql"
      },
      "source": [
        "#### Fatal Police Shooting in United States"
      ]
    },
    {
      "cell_type": "markdown",
      "metadata": {
        "id": "xm0YNEjAx5Qm"
      },
      "source": [
        "<div><img width=\"400px\" height=\"auto\" src=\"https://images.unsplash.com/photo-1606352466047-7cef02b312bb?ixlib=rb-1.2.1&ixid=MXwxMjA3fDB8MHxwaG90by1wYWdlfHx8fGVufDB8fHw%3D&auto=format&fit=crop&w=1662&q=80\" /></div>"
      ]
    },
    {
      "cell_type": "markdown",
      "metadata": {
        "id": "Gkg7FDkhx5Qm"
      },
      "source": [
        "[Police brutality in the United States](https://en.wikipedia.org/wiki/Police_brutality_in_the_United_States) has been an nationwide issue since the 20th century. Public safety of U.S. citizens is a typical argument to justify the controversially high number of fatal shootings.\n",
        "\n",
        "You are a contractor to the United States Department of Justice. **You have been given a case to investigate fatal police shootings throughout the United States of America, provide a list of issues, and propose a plan on how to tackle these issues**.\n",
        "\n",
        "The department offered some tips - the public opinion indicates that there's something systematically fishy of police actions against civilians, some states differ from other, some cities are different from others, race equality is still an unanswered question, there's some talk about huge spendings on police, rumors about mental issues of those getting shot. Government is all about prioritizing - use the data to list issues with the police activity and propose a plan which issues to tackle first and how.\n",
        "\n",
        "Your are given 1 dataset to start with. Try to search for more datasets to enrich your data analysis."
      ]
    },
    {
      "cell_type": "markdown",
      "metadata": {
        "id": "VndFsLolx5Qm"
      },
      "source": [
        "Here's the dataset:\n",
        "\n",
        "* [Fatal Police Shootings in the U.S. '15 - '17](https://www.kaggle.com/washingtonpost/police-shootings)."
      ]
    },
    {
      "cell_type": "markdown",
      "metadata": {
        "id": "5yEOPofQx5Qn"
      },
      "source": [
        "## Evaluation Criteria"
      ]
    },
    {
      "cell_type": "markdown",
      "metadata": {
        "id": "zKqeYEVix5Qn"
      },
      "source": [
        "- Code quality\n",
        "- Fulfillment of the idea\n",
        "- Adherence to the requirements\n",
        "- Delivery of the presentation\n",
        "\n",
        "#### Statistical hypothesis testing\n",
        "- Correct statistical test method is used, based on the situation.\n",
        "- Reasoning on chosen statistical significance level.\n",
        "\n",
        "#### Modeling\n",
        "- Both PCA and T-SNE algorithms are used."
      ]
    },
    {
      "cell_type": "code",
      "metadata": {
        "id": "ZPp7dO_1Cnv-"
      },
      "source": [
        "us_state_abbrev = {\n",
        "    'Alabama': 'AL',\n",
        "    'Alaska': 'AK',\n",
        "    'American Samoa': 'AS',\n",
        "    'Arizona': 'AZ',\n",
        "    'Arkansas': 'AR',\n",
        "    'California': 'CA',\n",
        "    'Colorado': 'CO',\n",
        "    'Connecticut': 'CT',\n",
        "    'Delaware': 'DE',\n",
        "    'District of Columbia': 'DC',\n",
        "    'Florida': 'FL',\n",
        "    'Georgia': 'GA',\n",
        "    'Guam': 'GU',\n",
        "    'Hawaii': 'HI',\n",
        "    'Idaho': 'ID',\n",
        "    'Illinois': 'IL',\n",
        "    'Indiana': 'IN',\n",
        "    'Iowa': 'IA',\n",
        "    'Kansas': 'KS',\n",
        "    'Kentucky': 'KY',\n",
        "    'Louisiana': 'LA',\n",
        "    'Maine': 'ME',\n",
        "    'Maryland': 'MD',\n",
        "    'Massachusetts': 'MA',\n",
        "    'Michigan': 'MI',\n",
        "    'Minnesota': 'MN',\n",
        "    'Mississippi': 'MS',\n",
        "    'Missouri': 'MO',\n",
        "    'Montana': 'MT',\n",
        "    'Nebraska': 'NE',\n",
        "    'Nevada': 'NV',\n",
        "    'New Hampshire': 'NH',\n",
        "    'New Jersey': 'NJ',\n",
        "    'New Mexico': 'NM',\n",
        "    'New York': 'NY',\n",
        "    'North Carolina': 'NC',\n",
        "    'North Dakota': 'ND',\n",
        "    'Northern Mariana Islands':'MP',\n",
        "    'Ohio': 'OH',\n",
        "    'Oklahoma': 'OK',\n",
        "    'Oregon': 'OR',\n",
        "    'Pennsylvania': 'PA',\n",
        "    'Puerto Rico': 'PR',\n",
        "    'Rhode Island': 'RI',\n",
        "    'South Carolina': 'SC',\n",
        "    'South Dakota': 'SD',\n",
        "    'Tennessee': 'TN',\n",
        "    'Texas': 'TX',\n",
        "    'Utah': 'UT',\n",
        "    'Vermont': 'VT',\n",
        "    'Virgin Islands': 'VI',\n",
        "    'Virginia': 'VA',\n",
        "    'Washington': 'WA',\n",
        "    'West Virginia': 'WV',\n",
        "    'Wisconsin': 'WI',\n",
        "    'Wyoming': 'WY'\n",
        "}"
      ],
      "execution_count": 1,
      "outputs": []
    },
    {
      "cell_type": "code",
      "metadata": {
        "colab": {
          "base_uri": "https://localhost:8080/"
        },
        "id": "E0kAP7kZAVfK",
        "outputId": "f00e8e38-59aa-409a-d93a-38571153359d"
      },
      "source": [
        "!pip install kneed"
      ],
      "execution_count": 2,
      "outputs": [
        {
          "output_type": "stream",
          "text": [
            "Requirement already satisfied: kneed in /usr/local/lib/python3.7/dist-packages (0.7.0)\n",
            "Requirement already satisfied: matplotlib in /usr/local/lib/python3.7/dist-packages (from kneed) (3.2.2)\n",
            "Requirement already satisfied: scipy in /usr/local/lib/python3.7/dist-packages (from kneed) (1.4.1)\n",
            "Requirement already satisfied: numpy>=1.14.2 in /usr/local/lib/python3.7/dist-packages (from kneed) (1.19.5)\n",
            "Requirement already satisfied: python-dateutil>=2.1 in /usr/local/lib/python3.7/dist-packages (from matplotlib->kneed) (2.8.1)\n",
            "Requirement already satisfied: cycler>=0.10 in /usr/local/lib/python3.7/dist-packages (from matplotlib->kneed) (0.10.0)\n",
            "Requirement already satisfied: pyparsing!=2.0.4,!=2.1.2,!=2.1.6,>=2.0.1 in /usr/local/lib/python3.7/dist-packages (from matplotlib->kneed) (2.4.7)\n",
            "Requirement already satisfied: kiwisolver>=1.0.1 in /usr/local/lib/python3.7/dist-packages (from matplotlib->kneed) (1.3.1)\n",
            "Requirement already satisfied: six>=1.5 in /usr/local/lib/python3.7/dist-packages (from python-dateutil>=2.1->matplotlib->kneed) (1.15.0)\n"
          ],
          "name": "stdout"
        }
      ]
    },
    {
      "cell_type": "markdown",
      "metadata": {
        "id": "FRT5P9p1oR66"
      },
      "source": [
        "# Introduction"
      ]
    },
    {
      "cell_type": "markdown",
      "metadata": {
        "id": "ClXrbKnDodlo"
      },
      "source": [
        "This project explores the dataset of police brutality in the United states between 2015 and 2017. The aim is to investigate the fatal shootings to see if there's something systematically wrong with police actions, list issues discovered with police actions and propose a plan to tackle the issues."
      ]
    },
    {
      "cell_type": "markdown",
      "metadata": {
        "id": "zpAxzs_psf7M"
      },
      "source": [
        "Each instance in the dataset contains Name, Date, Manner_of_death, Armed, Age, Gender,  Race, City, State, Signs_of_mental_illness, Threat_level, Flee, and Body_camera"
      ]
    },
    {
      "cell_type": "code",
      "metadata": {
        "colab": {
          "base_uri": "https://localhost:8080/"
        },
        "id": "muu7JjOXycRh",
        "outputId": "0aac273a-7b5f-4d04-9d10-ce638aeb88c2"
      },
      "source": [
        "from google.colab import drive\n",
        "drive.mount('/content/drive/')"
      ],
      "execution_count": 3,
      "outputs": [
        {
          "output_type": "stream",
          "text": [
            "Drive already mounted at /content/drive/; to attempt to forcibly remount, call drive.mount(\"/content/drive/\", force_remount=True).\n"
          ],
          "name": "stdout"
        }
      ]
    },
    {
      "cell_type": "code",
      "metadata": {
        "id": "vIBVU4gAzadJ"
      },
      "source": [
        "import os\n",
        "\n",
        "\n",
        "from kneed import KneeLocator\n",
        "import matplotlib.pyplot as plt\n",
        "import numpy as np \n",
        "import pandas as pd\n",
        "import seaborn as sns\n",
        "from scipy.stats import norm\n",
        "from sklearn.cluster import KMeans\n",
        "from sklearn.decomposition import PCA\n",
        "from sklearn.linear_model import LogisticRegression\n",
        "from sklearn.manifold import TSNE\n",
        "from sklearn.metrics import accuracy_score\n",
        "from sklearn.metrics import silhouette_score\n",
        "from sklearn.model_selection import train_test_split\n",
        "from sklearn.preprocessing import OneHotEncoder\n",
        "from sklearn.preprocessing import StandardScaler"
      ],
      "execution_count": 4,
      "outputs": []
    },
    {
      "cell_type": "code",
      "metadata": {
        "id": "vHIHqvu6cEy0"
      },
      "source": [
        "# os.chdir('drive/My Drive/Turing')"
      ],
      "execution_count": 5,
      "outputs": []
    },
    {
      "cell_type": "code",
      "metadata": {
        "id": "-MeBukW30V09",
        "colab": {
          "base_uri": "https://localhost:8080/",
          "height": 392
        },
        "outputId": "78544369-ca39-4a87-fe44-143d3ce2fcd0"
      },
      "source": [
        "pol_shooting = pd.read_csv('database.csv')\n",
        "pop_2016 = pd.read_csv('raw_data_2016_yesss.csv')"
      ],
      "execution_count": 6,
      "outputs": [
        {
          "output_type": "error",
          "ename": "FileNotFoundError",
          "evalue": "ignored",
          "traceback": [
            "\u001b[0;31m---------------------------------------------------------------------------\u001b[0m",
            "\u001b[0;31mFileNotFoundError\u001b[0m                         Traceback (most recent call last)",
            "\u001b[0;32m<ipython-input-6-3e03b0426ade>\u001b[0m in \u001b[0;36m<module>\u001b[0;34m()\u001b[0m\n\u001b[0;32m----> 1\u001b[0;31m \u001b[0mpol_shooting\u001b[0m \u001b[0;34m=\u001b[0m \u001b[0mpd\u001b[0m\u001b[0;34m.\u001b[0m\u001b[0mread_csv\u001b[0m\u001b[0;34m(\u001b[0m\u001b[0;34m'database.csv'\u001b[0m\u001b[0;34m)\u001b[0m\u001b[0;34m\u001b[0m\u001b[0;34m\u001b[0m\u001b[0m\n\u001b[0m\u001b[1;32m      2\u001b[0m \u001b[0mpop_2016\u001b[0m \u001b[0;34m=\u001b[0m \u001b[0mpd\u001b[0m\u001b[0;34m.\u001b[0m\u001b[0mread_csv\u001b[0m\u001b[0;34m(\u001b[0m\u001b[0;34m'raw_data_2016_yesss.csv'\u001b[0m\u001b[0;34m)\u001b[0m\u001b[0;34m\u001b[0m\u001b[0;34m\u001b[0m\u001b[0m\n",
            "\u001b[0;32m/usr/local/lib/python3.7/dist-packages/pandas/io/parsers.py\u001b[0m in \u001b[0;36mread_csv\u001b[0;34m(filepath_or_buffer, sep, delimiter, header, names, index_col, usecols, squeeze, prefix, mangle_dupe_cols, dtype, engine, converters, true_values, false_values, skipinitialspace, skiprows, skipfooter, nrows, na_values, keep_default_na, na_filter, verbose, skip_blank_lines, parse_dates, infer_datetime_format, keep_date_col, date_parser, dayfirst, cache_dates, iterator, chunksize, compression, thousands, decimal, lineterminator, quotechar, quoting, doublequote, escapechar, comment, encoding, dialect, error_bad_lines, warn_bad_lines, delim_whitespace, low_memory, memory_map, float_precision)\u001b[0m\n\u001b[1;32m    686\u001b[0m     )\n\u001b[1;32m    687\u001b[0m \u001b[0;34m\u001b[0m\u001b[0m\n\u001b[0;32m--> 688\u001b[0;31m     \u001b[0;32mreturn\u001b[0m \u001b[0m_read\u001b[0m\u001b[0;34m(\u001b[0m\u001b[0mfilepath_or_buffer\u001b[0m\u001b[0;34m,\u001b[0m \u001b[0mkwds\u001b[0m\u001b[0;34m)\u001b[0m\u001b[0;34m\u001b[0m\u001b[0;34m\u001b[0m\u001b[0m\n\u001b[0m\u001b[1;32m    689\u001b[0m \u001b[0;34m\u001b[0m\u001b[0m\n\u001b[1;32m    690\u001b[0m \u001b[0;34m\u001b[0m\u001b[0m\n",
            "\u001b[0;32m/usr/local/lib/python3.7/dist-packages/pandas/io/parsers.py\u001b[0m in \u001b[0;36m_read\u001b[0;34m(filepath_or_buffer, kwds)\u001b[0m\n\u001b[1;32m    452\u001b[0m \u001b[0;34m\u001b[0m\u001b[0m\n\u001b[1;32m    453\u001b[0m     \u001b[0;31m# Create the parser.\u001b[0m\u001b[0;34m\u001b[0m\u001b[0;34m\u001b[0m\u001b[0;34m\u001b[0m\u001b[0m\n\u001b[0;32m--> 454\u001b[0;31m     \u001b[0mparser\u001b[0m \u001b[0;34m=\u001b[0m \u001b[0mTextFileReader\u001b[0m\u001b[0;34m(\u001b[0m\u001b[0mfp_or_buf\u001b[0m\u001b[0;34m,\u001b[0m \u001b[0;34m**\u001b[0m\u001b[0mkwds\u001b[0m\u001b[0;34m)\u001b[0m\u001b[0;34m\u001b[0m\u001b[0;34m\u001b[0m\u001b[0m\n\u001b[0m\u001b[1;32m    455\u001b[0m \u001b[0;34m\u001b[0m\u001b[0m\n\u001b[1;32m    456\u001b[0m     \u001b[0;32mif\u001b[0m \u001b[0mchunksize\u001b[0m \u001b[0;32mor\u001b[0m \u001b[0miterator\u001b[0m\u001b[0;34m:\u001b[0m\u001b[0;34m\u001b[0m\u001b[0;34m\u001b[0m\u001b[0m\n",
            "\u001b[0;32m/usr/local/lib/python3.7/dist-packages/pandas/io/parsers.py\u001b[0m in \u001b[0;36m__init__\u001b[0;34m(self, f, engine, **kwds)\u001b[0m\n\u001b[1;32m    946\u001b[0m             \u001b[0mself\u001b[0m\u001b[0;34m.\u001b[0m\u001b[0moptions\u001b[0m\u001b[0;34m[\u001b[0m\u001b[0;34m\"has_index_names\"\u001b[0m\u001b[0;34m]\u001b[0m \u001b[0;34m=\u001b[0m \u001b[0mkwds\u001b[0m\u001b[0;34m[\u001b[0m\u001b[0;34m\"has_index_names\"\u001b[0m\u001b[0;34m]\u001b[0m\u001b[0;34m\u001b[0m\u001b[0;34m\u001b[0m\u001b[0m\n\u001b[1;32m    947\u001b[0m \u001b[0;34m\u001b[0m\u001b[0m\n\u001b[0;32m--> 948\u001b[0;31m         \u001b[0mself\u001b[0m\u001b[0;34m.\u001b[0m\u001b[0m_make_engine\u001b[0m\u001b[0;34m(\u001b[0m\u001b[0mself\u001b[0m\u001b[0;34m.\u001b[0m\u001b[0mengine\u001b[0m\u001b[0;34m)\u001b[0m\u001b[0;34m\u001b[0m\u001b[0;34m\u001b[0m\u001b[0m\n\u001b[0m\u001b[1;32m    949\u001b[0m \u001b[0;34m\u001b[0m\u001b[0m\n\u001b[1;32m    950\u001b[0m     \u001b[0;32mdef\u001b[0m \u001b[0mclose\u001b[0m\u001b[0;34m(\u001b[0m\u001b[0mself\u001b[0m\u001b[0;34m)\u001b[0m\u001b[0;34m:\u001b[0m\u001b[0;34m\u001b[0m\u001b[0;34m\u001b[0m\u001b[0m\n",
            "\u001b[0;32m/usr/local/lib/python3.7/dist-packages/pandas/io/parsers.py\u001b[0m in \u001b[0;36m_make_engine\u001b[0;34m(self, engine)\u001b[0m\n\u001b[1;32m   1178\u001b[0m     \u001b[0;32mdef\u001b[0m \u001b[0m_make_engine\u001b[0m\u001b[0;34m(\u001b[0m\u001b[0mself\u001b[0m\u001b[0;34m,\u001b[0m \u001b[0mengine\u001b[0m\u001b[0;34m=\u001b[0m\u001b[0;34m\"c\"\u001b[0m\u001b[0;34m)\u001b[0m\u001b[0;34m:\u001b[0m\u001b[0;34m\u001b[0m\u001b[0;34m\u001b[0m\u001b[0m\n\u001b[1;32m   1179\u001b[0m         \u001b[0;32mif\u001b[0m \u001b[0mengine\u001b[0m \u001b[0;34m==\u001b[0m \u001b[0;34m\"c\"\u001b[0m\u001b[0;34m:\u001b[0m\u001b[0;34m\u001b[0m\u001b[0;34m\u001b[0m\u001b[0m\n\u001b[0;32m-> 1180\u001b[0;31m             \u001b[0mself\u001b[0m\u001b[0;34m.\u001b[0m\u001b[0m_engine\u001b[0m \u001b[0;34m=\u001b[0m \u001b[0mCParserWrapper\u001b[0m\u001b[0;34m(\u001b[0m\u001b[0mself\u001b[0m\u001b[0;34m.\u001b[0m\u001b[0mf\u001b[0m\u001b[0;34m,\u001b[0m \u001b[0;34m**\u001b[0m\u001b[0mself\u001b[0m\u001b[0;34m.\u001b[0m\u001b[0moptions\u001b[0m\u001b[0;34m)\u001b[0m\u001b[0;34m\u001b[0m\u001b[0;34m\u001b[0m\u001b[0m\n\u001b[0m\u001b[1;32m   1181\u001b[0m         \u001b[0;32melse\u001b[0m\u001b[0;34m:\u001b[0m\u001b[0;34m\u001b[0m\u001b[0;34m\u001b[0m\u001b[0m\n\u001b[1;32m   1182\u001b[0m             \u001b[0;32mif\u001b[0m \u001b[0mengine\u001b[0m \u001b[0;34m==\u001b[0m \u001b[0;34m\"python\"\u001b[0m\u001b[0;34m:\u001b[0m\u001b[0;34m\u001b[0m\u001b[0;34m\u001b[0m\u001b[0m\n",
            "\u001b[0;32m/usr/local/lib/python3.7/dist-packages/pandas/io/parsers.py\u001b[0m in \u001b[0;36m__init__\u001b[0;34m(self, src, **kwds)\u001b[0m\n\u001b[1;32m   2008\u001b[0m         \u001b[0mkwds\u001b[0m\u001b[0;34m[\u001b[0m\u001b[0;34m\"usecols\"\u001b[0m\u001b[0;34m]\u001b[0m \u001b[0;34m=\u001b[0m \u001b[0mself\u001b[0m\u001b[0;34m.\u001b[0m\u001b[0musecols\u001b[0m\u001b[0;34m\u001b[0m\u001b[0;34m\u001b[0m\u001b[0m\n\u001b[1;32m   2009\u001b[0m \u001b[0;34m\u001b[0m\u001b[0m\n\u001b[0;32m-> 2010\u001b[0;31m         \u001b[0mself\u001b[0m\u001b[0;34m.\u001b[0m\u001b[0m_reader\u001b[0m \u001b[0;34m=\u001b[0m \u001b[0mparsers\u001b[0m\u001b[0;34m.\u001b[0m\u001b[0mTextReader\u001b[0m\u001b[0;34m(\u001b[0m\u001b[0msrc\u001b[0m\u001b[0;34m,\u001b[0m \u001b[0;34m**\u001b[0m\u001b[0mkwds\u001b[0m\u001b[0;34m)\u001b[0m\u001b[0;34m\u001b[0m\u001b[0;34m\u001b[0m\u001b[0m\n\u001b[0m\u001b[1;32m   2011\u001b[0m         \u001b[0mself\u001b[0m\u001b[0;34m.\u001b[0m\u001b[0munnamed_cols\u001b[0m \u001b[0;34m=\u001b[0m \u001b[0mself\u001b[0m\u001b[0;34m.\u001b[0m\u001b[0m_reader\u001b[0m\u001b[0;34m.\u001b[0m\u001b[0munnamed_cols\u001b[0m\u001b[0;34m\u001b[0m\u001b[0;34m\u001b[0m\u001b[0m\n\u001b[1;32m   2012\u001b[0m \u001b[0;34m\u001b[0m\u001b[0m\n",
            "\u001b[0;32mpandas/_libs/parsers.pyx\u001b[0m in \u001b[0;36mpandas._libs.parsers.TextReader.__cinit__\u001b[0;34m()\u001b[0m\n",
            "\u001b[0;32mpandas/_libs/parsers.pyx\u001b[0m in \u001b[0;36mpandas._libs.parsers.TextReader._setup_parser_source\u001b[0;34m()\u001b[0m\n",
            "\u001b[0;31mFileNotFoundError\u001b[0m: [Errno 2] No such file or directory: 'database.csv'"
          ]
        }
      ]
    },
    {
      "cell_type": "code",
      "metadata": {
        "id": "7TvW60j172s_"
      },
      "source": [
        "pol_shooting['date'] = pd.to_datetime(pol_shooting['date'])\n",
        "pol_shooting['year'] = pol_shooting.date.dt.year\n",
        "pol_shooting['month'] = pol_shooting.date.dt.month_name()\n",
        "pol_shooting['day'] = pol_shooting.date.dt.day_name()"
      ],
      "execution_count": null,
      "outputs": []
    },
    {
      "cell_type": "code",
      "metadata": {
        "id": "FE43tocN4jKU"
      },
      "source": [
        "days = [ 'Monday', 'Tuesday', 'Wednesday', 'Thursday', 'Friday', 'Saturday', 'Sunday']\n",
        "months = [ 'January', 'February', 'March', 'April', 'May', 'June', 'July', 'August', \n",
        "          'September', 'October', 'November', 'December']"
      ],
      "execution_count": null,
      "outputs": []
    },
    {
      "cell_type": "code",
      "metadata": {
        "id": "1E7NdnBv4m7Q"
      },
      "source": [
        "pol_shooting [(pol_shooting ['year']==2015) | (pol_shooting ['year']==2016)].groupby(['month'])\\\n",
        "                                                        ['month'].count().reindex(months).plot()                                                  \n",
        "plt.xlabel('Month')\n",
        "plt.ylabel('Count')\n",
        "plt.title('Shooting by month in 2015 and 2016')\n",
        "plt.show()"
      ],
      "execution_count": null,
      "outputs": []
    },
    {
      "cell_type": "code",
      "metadata": {
        "id": "5dALEoDdIWmw"
      },
      "source": [
        "pol_shooting [(pol_shooting ['year']==2015) | (pol_shooting ['year']==2016)].groupby\\\n",
        "                                        (['day'])['day'].count().reindex(days).plot()                                       \n",
        "plt.xlabel('Day')\n",
        "plt.ylabel('Count')\n",
        "plt.title('Shooting by day in 2015 and 2016')\n",
        "plt.show()"
      ],
      "execution_count": null,
      "outputs": []
    },
    {
      "cell_type": "code",
      "metadata": {
        "id": "pO_yNMDrMjG-"
      },
      "source": [
        "shooting_by_state = pol_shooting.groupby(['state'])['state'].count().to_frame().rename(columns=\\\n",
        "                                      {'state': 'count'}).reset_index().sort_values('count', ascending= False)\n"
      ],
      "execution_count": null,
      "outputs": []
    },
    {
      "cell_type": "code",
      "metadata": {
        "id": "upCW2INfNuF8"
      },
      "source": [
        "\n",
        "fig, (ax1, ax2) = plt.subplots(1, 2, figsize=(16,5))\n",
        "\n",
        "ax1.bar(shooting_by_state['state'][0:10], shooting_by_state['count'][0:10])\n",
        "ax1.title.set_text('Top 10 shooting cases by state')\n",
        "ax1.set_xlabel('State')\n",
        "ax1.set_ylabel('Shooting count')\n",
        "\n",
        "ax2.bar(shooting_by_state['state'][-10:], shooting_by_state['count'][-10:])\n",
        "ax2.title.set_text('Bottom 10 shooting cases by state')\n",
        "ax2.set_xlabel('State')\n",
        "ax2.set_ylabel('Shooting count')\n",
        "plt.show()"
      ],
      "execution_count": null,
      "outputs": []
    },
    {
      "cell_type": "code",
      "metadata": {
        "id": "CaShaFXC4clE"
      },
      "source": [
        "pop_2016['Location'] = pop_2016['Location'].replace(us_state_abbrev)"
      ],
      "execution_count": null,
      "outputs": []
    },
    {
      "cell_type": "code",
      "metadata": {
        "id": "LB2nR2bqEi4x"
      },
      "source": [
        "shooting_pop = pd.merge(shooting_by_state, pop_2016[['Location', 'Total']], left_on='state', \\\n",
        "                        right_on='Location', how='left').rename(columns= {'Total': 'Population 2016'})"
      ],
      "execution_count": null,
      "outputs": []
    },
    {
      "cell_type": "code",
      "metadata": {
        "id": "hzuXHmuUIm0q"
      },
      "source": [
        "pop_state = shooting_pop[['state','Population 2016']].sort_values(by='Population 2016', ascending=False)\n",
        "\n",
        "fig, (ax1, ax2) = plt.subplots(1, 2, figsize=(16,5))\n",
        "\n",
        "ax1.bar(pop_state['state'][0:10], pop_state['Population 2016'][0:10])\n",
        "ax1.title.set_text('Top 10 states by population')\n",
        "ax1.set_xlabel('State')\n",
        "ax1.set_ylabel('Population count')\n",
        "\n",
        "ax2.bar(pop_state['state'][-10:], pop_state['Population 2016'][-10:])\n",
        "ax2.title.set_text('Bottom 10 states by population')\n",
        "ax2.set_xlabel('State')\n",
        "ax2.set_ylabel('Population count')\n",
        "plt.show()"
      ],
      "execution_count": null,
      "outputs": []
    },
    {
      "cell_type": "markdown",
      "metadata": {
        "id": "zkc-8MRey2g6"
      },
      "source": [
        "From the population chart, it appears that states with high population, have similarly high number of shooting incidents, but that is only partially true. States like Arizona(AZ), Oklahoma(OK) etc. have very high number of shooting cases even when they don't appear in the Top 10 populous states. Similarly for states like DC and AK with low population, the shooting cases are high.\n"
      ]
    },
    {
      "cell_type": "code",
      "metadata": {
        "id": "3VmX5juCZW9T"
      },
      "source": [
        "shooting_pop['shooting_per_1M'] = round((shooting_pop['count']/shooting_pop['Population 2016'])*1000000)"
      ],
      "execution_count": null,
      "outputs": []
    },
    {
      "cell_type": "code",
      "metadata": {
        "id": "KPKjiruY4XOh"
      },
      "source": [
        "shooting_per_1M = shooting_pop.sort_values(by='shooting_per_1M', ascending=False)"
      ],
      "execution_count": null,
      "outputs": []
    },
    {
      "cell_type": "code",
      "metadata": {
        "id": "BVC6nWgW4MYI"
      },
      "source": [
        "fig, (ax1, ax2) = plt.subplots(1, 2, figsize=(16,5))\n",
        "\n",
        "ax1.bar(shooting_per_1M['state'][0:10], shooting_per_1M['shooting_per_1M'][0:10])\n",
        "ax1.title.set_text('Top 10 shooting per 1M population')\n",
        "ax1.set_xlabel('State')\n",
        "ax1.set_ylabel('Shooting count')\n",
        "\n",
        "ax2.bar(shooting_per_1M['state'][-10:], shooting_per_1M['shooting_per_1M'][-10:])\n",
        "ax2.title.set_text('Bottom 10 shooting per 1M population')\n",
        "ax2.set_xlabel('State')\n",
        "ax2.set_ylabel('Shooting count')\n",
        "plt.show()"
      ],
      "execution_count": null,
      "outputs": []
    },
    {
      "cell_type": "markdown",
      "metadata": {
        "id": "mbldKKSK2NCR"
      },
      "source": [
        "The chart of shooting per 1M population shows the concentration OF states with high cases of police shooting. This clearly shows that even though high numbers of police shooting were recorded in highly populated states, the proportion of shootings per 1M population is higher in smaller states. None of the states in the top 10 shooting per 1M population is in the top 10 most populous states."
      ]
    },
    {
      "cell_type": "code",
      "metadata": {
        "id": "D0abpN_cRyTL"
      },
      "source": [
        "plt.hist(pol_shooting['age'], edgecolor = 'black')\n",
        "plt.xlabel('Age')\n",
        "plt.ylabel('Count')\n",
        "plt.title('Age distribution of shooting victims')\n",
        "plt.show()"
      ],
      "execution_count": null,
      "outputs": []
    },
    {
      "cell_type": "code",
      "metadata": {
        "id": "PKjTCk6N6wdu"
      },
      "source": [
        "sns.boxplot(y=pol_shooting.age, x=pol_shooting.gender)\n",
        "plt.xlabel('Gender')\n",
        "plt.ylabel('Age')\n",
        "plt.title('Age distribution by gender')\n",
        "plt.show()"
      ],
      "execution_count": null,
      "outputs": []
    },
    {
      "cell_type": "code",
      "metadata": {
        "id": "BchGQ4ns9Q6g"
      },
      "source": [
        "shooting_race = pol_shooting.groupby(['race'])['race'].count().sort_values(ascending=False)\\\n",
        "                                                      .to_frame().rename(columns={'race': 'count'}).reset_index()\n",
        "\n",
        "shooting_race['race'].replace({'W': 'White', 'B': 'Black', 'H': 'Hispanic',\\\n",
        "                               'A': 'Asian', 'O': 'Others', 'N': 'Others'}, inplace=True)\n",
        "\n",
        "shooting_race_clean= shooting_race.groupby('race')['count'].sum().to_frame().reset_index()\\\n",
        "                                                          .sort_values(by='count', ascending=False)\n",
        "                                                          \n",
        "shooting_race_clean.plot.bar('race', 'count')\n",
        "plt.xlabel('Race')\n",
        "plt.ylabel('Count')\n",
        "plt.title('Shooting incidents by race')\n",
        "plt.show()"
      ],
      "execution_count": null,
      "outputs": []
    },
    {
      "cell_type": "code",
      "metadata": {
        "id": "O8qJuPlZF6Rf"
      },
      "source": [
        "pop_race = pd.melt(pop_2016[1:].drop(['Location', 'Total'], axis=1)).groupby('variable')\\\n",
        "                                            ['value'].sum().sort_values(ascending=False)\n",
        "\n",
        "pop_race_clean= pop_race.to_frame().reset_index().replace({ 'Multiple Races': 'Others', \\\n",
        "                                                           'American Indian/Alaska Native': 'Others', \\\n",
        "                                                           'Native Hawaiian/Other Pacific Islander': 'Others'})\\\n",
        "                                                           .groupby('variable')['value'].sum().to_frame().reset_index()\\\n",
        "                                                           .rename(columns={'variable': 'race', 'value': 'population'})"
      ],
      "execution_count": null,
      "outputs": []
    },
    {
      "cell_type": "code",
      "metadata": {
        "id": "R7MPiA6V_enR"
      },
      "source": [
        "pop_race_clean.sort_values(by = 'population', ascending=False).plot.bar('race', 'population')\n",
        "plt.xlabel('Race')\n",
        "plt.ylabel('Count')\n",
        "plt.title('Population by race')\n",
        "plt.show()"
      ],
      "execution_count": null,
      "outputs": []
    },
    {
      "cell_type": "markdown",
      "metadata": {
        "id": "QKXWJG0v4sQP"
      },
      "source": [
        "Looking at the chart for shooting cases by race and that of the population by race, population of whites is more than three times that of the Hispanic population and about five times that of the black, but looking at the shooting cases, the incidents involving black people is only about two times that of the white"
      ]
    },
    {
      "cell_type": "code",
      "metadata": {
        "id": "GEuWAv7_EmTp"
      },
      "source": [
        "shooting_race_pop['pop_proportion'] = (shooting_race_pop['population']\\\n",
        "                                       /shooting_race_pop['population'].sum())*100\n",
        "\n",
        "shooting_race_pop['shooting_proportion'] = (shooting_race_pop['count']\\\n",
        "                                       /shooting_race_pop['count'].sum())*100\n",
        "                                       \n",
        "shooting_race_pop.sort_values(by='population', ascending=False, inplace=True)"
      ],
      "execution_count": null,
      "outputs": []
    },
    {
      "cell_type": "code",
      "metadata": {
        "id": "vQzo5Ll9FeQB"
      },
      "source": [
        "labels= list(shooting_race_pop.race)\n",
        "fig, ax = plt.subplots(figsize=(10,5))\n",
        "ind=np.arange(len(labels))\n",
        "width=0.35\n",
        "\n",
        "ax.bar(ind, shooting_race_pop['pop_proportion'], width, label= 'Population')\n",
        "ax.bar(ind+width, shooting_race_pop['shooting_proportion'], width, label='Shooting')\n",
        "ax.title.set_text('Population and Shooting proportions')\n",
        "ax.set_xticks(ind)\n",
        "ax.set_xticklabels(labels)\n",
        "ax.set_xlabel('Race')\n",
        "ax.set_ylabel('Proportion')\n",
        "ax.legend()\n",
        "plt.show()\n"
      ],
      "execution_count": null,
      "outputs": []
    },
    {
      "cell_type": "code",
      "metadata": {
        "id": "Q2Fnpb0HEOSH"
      },
      "source": [
        "shooting_race_pop = pd.merge(shooting_race_clean, pop_race_clean)\n",
        "\n",
        "shooting_race_pop['shooting_per_1M_per_race'] = round((shooting_race_pop['count']\\\n",
        "                                                       /shooting_race_pop['population'])*1000000)\n",
        "shooting_race_pop = shooting_race_pop.sort_values(by='shooting_per_1M_per_race', ascending=False)\n",
        "shooting_race_pop.plot.bar('race', 'shooting_per_1M_per_race')\n",
        "plt.xlabel('Race')\n",
        "plt.ylabel('Shooting count')\n",
        "plt.title('Shooting per 1M population by race')\n",
        "plt.show()"
      ],
      "execution_count": null,
      "outputs": []
    },
    {
      "cell_type": "markdown",
      "metadata": {
        "id": "Wt8b5fHt7xUL"
      },
      "source": [
        "In the shooting per 1M people per race chart, black jumps to top of the chart with twice as many incidents as the next race, Hispanic and almost three times as white"
      ]
    },
    {
      "cell_type": "markdown",
      "metadata": {
        "id": "juadHSS9-oTV"
      },
      "source": [
        "Using the Z-score Proportion test to verify a report on USA today that claims Black people account for about 23% for those shot and killed by the police (https://eu.usatoday.com/story/opinion/2020/07/03/police-black-killings-homicide-rates-race-injustice-column/3235072001/)\n",
        "\n",
        "\n",
        "*   H0: The percentage of black people shot dead by police is 23%\n",
        "*   H1: The percentage of black people shot dead by police is more than 23%\n",
        "\n",
        "\n",
        "\n"
      ]
    },
    {
      "cell_type": "code",
      "metadata": {
        "id": "JPHAE9RuL1jp"
      },
      "source": [
        "shooting_race_clean[shooting_race_clean['race']=='Black']['count']"
      ],
      "execution_count": null,
      "outputs": []
    },
    {
      "cell_type": "code",
      "metadata": {
        "id": "Je00edeCE-X6"
      },
      "source": [
        "def proportion_test(p_hat, p_o, n):\n",
        "  num = p_hat - p_o\n",
        "  den = np.sqrt((p_o * (1-p_o))/n)\n",
        "  return num / den"
      ],
      "execution_count": null,
      "outputs": []
    },
    {
      "cell_type": "code",
      "metadata": {
        "id": "wwQtmlSA2bjk"
      },
      "source": [
        "def get_z_score(alpha):\n",
        "  return norm.ppf(1-alpha)"
      ],
      "execution_count": null,
      "outputs": []
    },
    {
      "cell_type": "code",
      "metadata": {
        "id": "dAi5o_VTHba1"
      },
      "source": [
        "# confidence = 95\n",
        "n = shooting_race_clean['count'].sum()\n",
        "shooting_black = int(shooting_race_clean[shooting_race_clean['race']=='Black']['count'])\n",
        "p_hat = shooting_black / n\n",
        "p_o = 0.23\n",
        "alpha = 0.05"
      ],
      "execution_count": null,
      "outputs": []
    },
    {
      "cell_type": "code",
      "metadata": {
        "id": "85AML5amsmwZ"
      },
      "source": [
        "test_score = proportion_test(p_hat, p_o, n)\n",
        "print('test_score: ', test_score)\n",
        "\n",
        "z_score = get_z_score(alpha)\n",
        "print('z_score: ', z_score)"
      ],
      "execution_count": null,
      "outputs": []
    },
    {
      "cell_type": "markdown",
      "metadata": {
        "id": "NXZKFHTmFHph"
      },
      "source": [
        "Since the calculated test score is greater than the z-score, we reject the hypothesis that 23% of the victims of police shooting are black"
      ]
    },
    {
      "cell_type": "code",
      "metadata": {
        "id": "VSQDtt1bVjVU"
      },
      "source": [
        "pol_shooting['armed'].value_counts().shape[0]"
      ],
      "execution_count": null,
      "outputs": []
    },
    {
      "cell_type": "markdown",
      "metadata": {
        "id": "8U1me7ZTIo79"
      },
      "source": [
        "The categories of arms found on victims of police shooting are 64 "
      ]
    },
    {
      "cell_type": "code",
      "metadata": {
        "id": "nFfFzWDfHbX4"
      },
      "source": [
        "pol_shooting['armed'].value_counts()[0:15].plot.bar()\n",
        "plt.xlabel('Arms')\n",
        "plt.ylabel('Count')\n",
        "plt.title('Top 15 arms from victims of police shooting')\n",
        "plt.show()"
      ],
      "execution_count": null,
      "outputs": []
    },
    {
      "cell_type": "markdown",
      "metadata": {
        "id": "avw7t1PdJAp1"
      },
      "source": [
        "The report also claims that majority of the victims are armed which is obvious in the chart above. Using Z-score Proportion test with 95% confidence, we test if more than half the victims had guns with them.\n",
        "\n",
        "\n",
        "*   H0: The percentage of victims with gun shot dead by police is 50%\n",
        "*   H1: The percentage of victims with gun shot dead by police is more than 50%\n",
        "\n",
        "\n"
      ]
    },
    {
      "cell_type": "code",
      "metadata": {
        "id": "WlpKSmQmIl_E"
      },
      "source": [
        "# confidence = 95\n",
        "n = pol_shooting['armed'].value_counts().sum()\n",
        "shooting_armed = pol_shooting[pol_shooting['armed']=='gun'].shape[0]\n",
        "p_hat = shooting_armed / n\n",
        "p_o = 0.5\n",
        "alpha = 0.05"
      ],
      "execution_count": null,
      "outputs": []
    },
    {
      "cell_type": "code",
      "metadata": {
        "id": "gjerqGPIWG9i"
      },
      "source": [
        "test_score = proportion_test(p_hat, p_o, n)\n",
        "print('test_score: ', test_score)\n",
        "\n",
        "z_score = get_z_score(alpha)\n",
        "print('z_score: ', z_score)"
      ],
      "execution_count": null,
      "outputs": []
    },
    {
      "cell_type": "markdown",
      "metadata": {
        "id": "1Bs0cBfRLp2z"
      },
      "source": [
        "Since the calculated test score is greater than the z-score, we reject the hypothesis that the percetage of victims with gun shot dead by police is 50%"
      ]
    },
    {
      "cell_type": "code",
      "metadata": {
        "id": "JmohmP0ZsCnR"
      },
      "source": [
        "pol_shooting['threat_level'].value_counts().plot.bar()\n",
        "plt.xlabel('Threat level')\n",
        "plt.ylabel('Count')\n",
        "plt.title('Victim threat level')\n",
        "plt.show()"
      ],
      "execution_count": null,
      "outputs": []
    },
    {
      "cell_type": "code",
      "metadata": {
        "id": "BT9BQTSZJagA"
      },
      "source": [
        "pol_shooting['flee'].value_counts().plot.bar()\n",
        "plt.xlabel('Flee')\n",
        "plt.ylabel('Count')\n",
        "plt.title('Victims fleeing by count')\n",
        "plt.show()"
      ],
      "execution_count": null,
      "outputs": []
    },
    {
      "cell_type": "markdown",
      "metadata": {
        "id": "S1QWu5e-NuzM"
      },
      "source": [
        "From the last three charts, it makes sense to see that the threat level of the victims is mostly high, considering the large percentage of victims were found with gun. Also, its important to note that most of the victims were not fleeing."
      ]
    },
    {
      "cell_type": "code",
      "metadata": {
        "id": "6M_AczVnNN0E"
      },
      "source": [
        "pol_shooting['signs_of_mental_illness'].value_counts().plot.bar()\n",
        "plt.ylabel('Count')\n",
        "plt.xlabel('Signs of mental illness')\n",
        "plt.title('Shooting victims mental state')\n",
        "plt.show()"
      ],
      "execution_count": null,
      "outputs": []
    },
    {
      "cell_type": "code",
      "metadata": {
        "id": "jMWESDQMPeYP"
      },
      "source": [
        ""
      ],
      "execution_count": null,
      "outputs": []
    },
    {
      "cell_type": "code",
      "metadata": {
        "id": "G6hLsl5pQFKi"
      },
      "source": [
        "pol_shooting.info()"
      ],
      "execution_count": null,
      "outputs": []
    },
    {
      "cell_type": "code",
      "metadata": {
        "id": "hQdmxf8NKg_-"
      },
      "source": [
        "pol_shooting.fillna(pol_shooting.mode().iloc[0], inplace=True)"
      ],
      "execution_count": null,
      "outputs": []
    },
    {
      "cell_type": "code",
      "metadata": {
        "id": "r9_G5Nm5Tyhn"
      },
      "source": [
        "X = pol_shooting.drop(['id', 'name', 'city', 'date', 'year','age', 'signs_of_mental_illness'], axis=1)\n",
        "y =  pol_shooting['signs_of_mental_illness']"
      ],
      "execution_count": null,
      "outputs": []
    },
    {
      "cell_type": "code",
      "metadata": {
        "id": "MuDayZkkNwo3"
      },
      "source": [
        "ohe = OneHotEncoder(handle_unknown='ignore')"
      ],
      "execution_count": null,
      "outputs": []
    },
    {
      "cell_type": "code",
      "metadata": {
        "id": "bFAdpMbHkYqs"
      },
      "source": [
        "X = ohe.fit_transform(X).toarray()\n",
        "X = pd.DataFrame(X, columns=ohe.get_feature_names())\n",
        "X['age'] = pol_shooting.age"
      ],
      "execution_count": null,
      "outputs": []
    },
    {
      "cell_type": "code",
      "metadata": {
        "id": "9lFiCNh0qIxq"
      },
      "source": [
        "sc = StandardScaler()\n",
        "X_scaled = sc.fit_transform(X)"
      ],
      "execution_count": null,
      "outputs": []
    },
    {
      "cell_type": "code",
      "metadata": {
        "id": "TK0_bdt-ylTY"
      },
      "source": [
        "pca= PCA()\n",
        "X = pca.fit_transform(X_scaled)"
      ],
      "execution_count": null,
      "outputs": []
    },
    {
      "cell_type": "code",
      "metadata": {
        "id": "gWdJsHjdpzyT"
      },
      "source": [
        "explained_variance = pca.explained_variance_ratio_\n",
        "cumsum_explained_variance = np.cumsum(explained_variance)"
      ],
      "execution_count": null,
      "outputs": []
    },
    {
      "cell_type": "code",
      "metadata": {
        "id": "zs-xGu4gaplz"
      },
      "source": [
        "plt.plot(range(pca.n_components_), cumsum_explained_variance)\n",
        "ax = plt.gca()\n",
        "ax.axhline(y=0.80, color='red')"
      ],
      "execution_count": null,
      "outputs": []
    },
    {
      "cell_type": "code",
      "metadata": {
        "id": "XScqCCFeizQQ"
      },
      "source": [
        "pca = PCA(n_components=100)\n",
        "X = pca.fit_transform(X_scaled)"
      ],
      "execution_count": null,
      "outputs": []
    },
    {
      "cell_type": "code",
      "metadata": {
        "id": "C9JlBFTGtacm"
      },
      "source": [
        "pc_df = pd.DataFrame(data= X, columns= list(range(1, 101)))"
      ],
      "execution_count": null,
      "outputs": []
    },
    {
      "cell_type": "code",
      "metadata": {
        "id": "Zn73suD11Q9h"
      },
      "source": [
        "plt.figure(figsize = (7,7));\n",
        "sns.scatterplot(x = pc_df[1],y = pc_df[2],hue =y);\n",
        "plt.xlabel('Pc1')\n",
        "plt.ylabel('Pc2')\n",
        "plt.title('Victim clusters based on mental state')\n",
        "plt.show()"
      ],
      "execution_count": null,
      "outputs": []
    },
    {
      "cell_type": "code",
      "metadata": {
        "id": "Zx_Sp-dO_LOY"
      },
      "source": [
        "distortions = []\n",
        "K = range(1,10)\n",
        "for k in K:\n",
        "    kmeanModel = KMeans(n_clusters=k)\n",
        "    kmeanModel.fit(X)\n",
        "    distortions.append(kmeanModel.inertia_)"
      ],
      "execution_count": null,
      "outputs": []
    },
    {
      "cell_type": "code",
      "metadata": {
        "id": "-9EYk8MakuqD"
      },
      "source": [
        "plt.plot(K, distortions, 'bx-');\n",
        "plt.xlabel('K');\n",
        "plt.ylabel('Distortion');\n",
        "plt.title('The Elbow Method showing the optimal k');"
      ],
      "execution_count": null,
      "outputs": []
    },
    {
      "cell_type": "code",
      "metadata": {
        "id": "8e-qXXpGTAsN"
      },
      "source": [
        "knee = KneeLocator(range(1, 10), distortions, curve=\"convex\", direction=\"decreasing\")\n",
        "\n",
        "print(knee.elbow)"
      ],
      "execution_count": null,
      "outputs": []
    },
    {
      "cell_type": "code",
      "metadata": {
        "id": "6HyXYrAZ_SVU"
      },
      "source": [
        "kmeans = KMeans(n_clusters=4)\n",
        "clusters = kmeans.fit_predict(X)\n",
        "centroids = kmeans.cluster_centers_"
      ],
      "execution_count": null,
      "outputs": []
    },
    {
      "cell_type": "code",
      "metadata": {
        "id": "gDwPb2s5_TGO"
      },
      "source": [
        "unique_clusters = np.unique(clusters)\n",
        "\n",
        "for i in unique_clusters:\n",
        "    plt.scatter(X[clusters == i , 0] , X[clusters == i , 1] , label = i);\n",
        "plt.scatter(centroids[:,0] , centroids[:,1] , s = 50, color = 'black');\n",
        "plt.legend();\n",
        "plt.title('Cluster plot for music attributes with pca');"
      ],
      "execution_count": null,
      "outputs": []
    },
    {
      "cell_type": "code",
      "metadata": {
        "id": "ah74tc8KYU1O"
      },
      "source": [
        "print('Silhouette score with PCA: ', silhouette_score(X, clusters))"
      ],
      "execution_count": null,
      "outputs": []
    },
    {
      "cell_type": "markdown",
      "metadata": {
        "id": "SwVbaE1XYu4r"
      },
      "source": [
        "The silhouette score indicates that the clusters overlap, i.e there's no clear separation among clusters"
      ]
    },
    {
      "cell_type": "markdown",
      "metadata": {
        "id": "19ldtD5rZX8e"
      },
      "source": [
        "A model to predict wether a victim has mental illness or not"
      ]
    },
    {
      "cell_type": "code",
      "metadata": {
        "id": "7SEf63SvuQK_"
      },
      "source": [
        "X_train, X_test, y_train, y_test = train_test_split(X, y, test_size=0.2, stratify=y)"
      ],
      "execution_count": null,
      "outputs": []
    },
    {
      "cell_type": "code",
      "metadata": {
        "id": "4taMkXKcv50W"
      },
      "source": [
        "classifier = LogisticRegression()\n",
        "classifier.fit(X_train, y_train)\n",
        "\n",
        "y_pred = classifier.predict(X_test)"
      ],
      "execution_count": null,
      "outputs": []
    },
    {
      "cell_type": "code",
      "metadata": {
        "id": "zX4lHxvQudOo"
      },
      "source": [
        "print('Model accuracy: ' + str(accuracy_score(y_test, y_pred)))"
      ],
      "execution_count": null,
      "outputs": []
    },
    {
      "cell_type": "markdown",
      "metadata": {
        "id": "ecKUWmVRQWBb"
      },
      "source": [
        "Issues:\n",
        "\n",
        "\n",
        "*   There is not enough data on the victims e.g Occupation, Family, neighbourhood they live in, education etc. and nothing on the policer officers e.g race, age, past history, etc. for more insight into the shootings.\n",
        "*   Blacks have significantly higher chaces of being killed by a police than any other race\n",
        "*   Most of the victims had weapon on them (Gun being the major arm)\n",
        "\n"
      ]
    },
    {
      "cell_type": "markdown",
      "metadata": {
        "id": "lvOK14-5ReVY"
      },
      "source": [
        "Proposed solution:\n",
        "\n",
        "\n",
        "*   More and rich data should be collected on police shooting\n",
        "*   Unconscious racial bias should be a major focus for the police training.\n",
        "*   Gun laws should be reviewed as over 50% of victims are in posession of guns \n",
        "  \n",
        "\n"
      ]
    },
    {
      "cell_type": "markdown",
      "metadata": {
        "id": "_2PYzv7sVhVU"
      },
      "source": [
        "# Conclusion"
      ]
    },
    {
      "cell_type": "markdown",
      "metadata": {
        "id": "OPc5Gs-OVtFI"
      },
      "source": [
        "The results from this project shows that there's some form of racial bias in the police system in the United states. It also shows that access to guns might also contribute to the number of incidents of police brutality. "
      ]
    }
  ]
}